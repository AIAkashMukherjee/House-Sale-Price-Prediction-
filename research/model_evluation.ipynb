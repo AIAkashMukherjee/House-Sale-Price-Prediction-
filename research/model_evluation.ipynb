{
 "cells": [
  {
   "cell_type": "code",
   "execution_count": 2,
   "metadata": {},
   "outputs": [],
   "source": [
    "import os\n",
    "os.chdir('../')"
   ]
  },
  {
   "cell_type": "code",
   "execution_count": 3,
   "metadata": {},
   "outputs": [],
   "source": [
    "import mlflow\n",
    "import joblib\n",
    "from src.utils.utlis import *\n",
    "from src.constants import *\n",
    "import pandas as pd"
   ]
  },
  {
   "cell_type": "code",
   "execution_count": 4,
   "metadata": {},
   "outputs": [],
   "source": [
    "\n",
    "os.environ['MLFLOW_TRACKING_URI']='https://dagshub.com/AIAkashMukherjee/House-Sale-Price-Prediction-.mlflow'\n",
    "os.environ['MLFLOW_TRACKING_USERNAME']='AIAkashMukherjee'\n",
    "os.environ['MLFLOW_TRACKING_PASSWORD'] = '588b7f4279c32acc1263e6c2cfbbd743a7f77705'"
   ]
  },
  {
   "cell_type": "code",
   "execution_count": 14,
   "metadata": {},
   "outputs": [],
   "source": [
    "model=joblib.load('artifacts/model_trainer/model.pkl')"
   ]
  },
  {
   "cell_type": "code",
   "execution_count": 15,
   "metadata": {},
   "outputs": [],
   "source": [
    "from dataclasses import dataclass\n",
    "from pathlib import Path\n",
    "\n",
    "@dataclass(frozen=True)\n",
    "class EvaluationConfig:\n",
    "    model_path:Path\n",
    "    test_data:Path\n",
    "    mlflow_uri: str\n",
    "  "
   ]
  },
  {
   "cell_type": "code",
   "execution_count": null,
   "metadata": {},
   "outputs": [],
   "source": [
    "class ConfigurationManager:\n",
    "    def __init__(\n",
    "        self,\n",
    "        config_filepath = CONFIG_FILE_PATH,\n",
    "        params_filepath = PARAMS_FILE_PATH):\n",
    "\n",
    "        self.config = read_yaml(config_filepath)\n",
    "        self.params = read_yaml(params_filepath)\n",
    "\n",
    "        create_directories([self.config.artifacts_root])\n",
    "\n",
    "    def eval_config(self):\n",
    "        eval_confg=EvaluationConfig(\n",
    "            model_path=\"artifacts/model_trainer/model.pkl\",\n",
    "            test_data=\"artifacts/data_transformation/final_test.csv\",\n",
    "            mlflow_uri=os.environ['MLFLOW_TRACKING_URI'],\n",
    "           \n",
    "        )    \n",
    "        return eval_confg"
   ]
  },
  {
   "cell_type": "code",
   "execution_count": 19,
   "metadata": {},
   "outputs": [],
   "source": [
    "class ModelEvaluation:\n",
    "    def __init__(self,config:EvaluationConfig):\n",
    "        self.config=config\n",
    "        self.scores={}\n",
    "\n",
    "    def save_score(self):\n",
    "        save_json(path=Path(\"scores.json\"), data=self.scores) \n",
    "\n",
    "    def evaluate_model(self):\n",
    "            # train_data=pd.read_csv(self.config.training_data_path)\n",
    "            test_data=pd.read_csv(self.config.test_data)\n",
    "            X_test = test_data.iloc[:, :-1].values\n",
    "            y_test = test_data.iloc[:, -1].values   \n",
    "\n",
    "            model=joblib.load(self.config.model_path)\n",
    "            y_pred=model.predict(X_test)\n",
    "\n",
    "            r2 = r2_score(y_test, y_pred)\n",
    "            self.scores[\"R2 Score\"] = r2\n",
    "            return model\n",
    "\n",
    "    def log_with_mlflow(self,model):\n",
    "        mlflow.set_tracking_uri(self.config.mlflow_uri)\n",
    "        with mlflow.start_run():\n",
    "            mlflow.log_param(\"Model Path\", self.config.model_path)\n",
    "            mlflow.log_metric(\"R2 Score\", self.scores[\"R2 Score\"])\n",
    "\n",
    "            mlflow.sklearn.log_model(model, \"random_forest_model\")\n",
    "\n",
    "    def evaluation(self):\n",
    "        model = self.evaluate_model()\n",
    "\n",
    "        # Save scores locally\n",
    "        self.save_score()\n",
    "\n",
    "        # Log evaluation with MLflow\n",
    "        self.log_with_mlflow(model)\n",
    "            "
   ]
  },
  {
   "cell_type": "code",
   "execution_count": 20,
   "metadata": {},
   "outputs": [
    {
     "name": "stderr",
     "output_type": "stream",
     "text": [
      "2024/11/17 17:52:00 WARNING mlflow.models.model: Model logged without a signature and input example. Please set `input_example` parameter when logging the model to auto infer the model signature.\n",
      "2024/11/17 17:52:06 INFO mlflow.tracking._tracking_service.client: 🏃 View run angry-trout-262 at: https://dagshub.com/AIAkashMukherjee/House-Sale-Price-Prediction-.mlflow/#/experiments/0/runs/6c8df6e9daa94e2d8caeef2f0e3cb7e3.\n",
      "2024/11/17 17:52:06 INFO mlflow.tracking._tracking_service.client: 🧪 View experiment at: https://dagshub.com/AIAkashMukherjee/House-Sale-Price-Prediction-.mlflow/#/experiments/0.\n"
     ]
    }
   ],
   "source": [
    "try:\n",
    "    config = ConfigurationManager()\n",
    "    eval_config = config.eval_config()\n",
    "    evaluation = ModelEvaluation(eval_config)\n",
    "    evaluation.evaluation()\n",
    "\n",
    "except Exception as e:\n",
    "   raise e"
   ]
  },
  {
   "cell_type": "code",
   "execution_count": null,
   "metadata": {},
   "outputs": [],
   "source": []
  }
 ],
 "metadata": {
  "kernelspec": {
   "display_name": "my_env",
   "language": "python",
   "name": "python3"
  },
  "language_info": {
   "codemirror_mode": {
    "name": "ipython",
    "version": 3
   },
   "file_extension": ".py",
   "mimetype": "text/x-python",
   "name": "python",
   "nbconvert_exporter": "python",
   "pygments_lexer": "ipython3",
   "version": "3.11.0"
  }
 },
 "nbformat": 4,
 "nbformat_minor": 2
}
