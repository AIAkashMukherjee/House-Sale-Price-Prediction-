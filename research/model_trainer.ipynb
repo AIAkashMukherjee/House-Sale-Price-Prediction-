{
 "cells": [
  {
   "cell_type": "code",
   "execution_count": 1,
   "metadata": {},
   "outputs": [],
   "source": [
    "import os\n",
    "os.chdir('../')"
   ]
  },
  {
   "cell_type": "code",
   "execution_count": 2,
   "metadata": {},
   "outputs": [],
   "source": [
    "from dataclasses import dataclass\n",
    "from src.logger.custom_logging import logger\n",
    "from pathlib import Path\n",
    "from src.constants import *\n",
    "from src.utils.utlis import *\n",
    "from src.exceptions.expection import CustomException\n",
    "from sklearn.ensemble import RandomForestRegressor\n",
    "from sklearn.svm import SVR\n",
    "from sklearn.model_selection import train_test_split\n",
    "import sys,joblib\n",
    "import pandas as pd\n",
    "from sklearn.base import BaseEstimator\n",
    "\n",
    "\n",
    "@dataclass(frozen=True)\n",
    "\n",
    "class ModelTrainerConfig:\n",
    "    root_dir: Path\n",
    "    train_model_path: Path\n",
    "    training_data_path: Path\n",
    "    testing_data_path: Path"
   ]
  },
  {
   "cell_type": "code",
   "execution_count": 3,
   "metadata": {},
   "outputs": [],
   "source": [
    "class ConfigManager:\n",
    "    def __init__(self,config_file=CONFIG_FILE_PATH,\n",
    "                 params_filepath = PARAMS_FILE_PATH):\n",
    "        self.config=read_yaml(config_file)\n",
    "        self.params=read_yaml(params_filepath)\n",
    "    \n",
    "\n",
    "        create_directories([self.config.artifacts_root])\n",
    "\n",
    "    def get_model_trainer_config(self)-> ModelTrainerConfig:\n",
    "        config=self.config.model_trainer\n",
    "        create_directories([config.root_dir])\n",
    "\n",
    "        model_trainer_config = ModelTrainerConfig(\n",
    "            root_dir=config.root_dir,\n",
    "            train_model_path=config.train_model_path,\n",
    "            training_data_path=config.training_data_path,\n",
    "            testing_data_path=config.testing_data_path\n",
    "    \n",
    "\n",
    "        )    \n",
    "        return model_trainer_config"
   ]
  },
  {
   "cell_type": "code",
   "execution_count": 8,
   "metadata": {},
   "outputs": [],
   "source": [
    "class ModelTrainer:\n",
    "    def __init__(self,config:ModelTrainerConfig):\n",
    "        self.config = config\n",
    "\n",
    "    @staticmethod\n",
    "    def save_model(path: Path, model: BaseEstimator):\n",
    "        \"\"\"Save the trained model to the specified path.\"\"\"\n",
    "        try:\n",
    "            joblib.dump(model, path)\n",
    "            print(f\"Model saved at {path}\")\n",
    "        except Exception as e:\n",
    "            print(f\"Error saving model: {e}\")\n",
    "            logger.error(f\"Error saving model: {e}\")\n",
    "            raise CustomException(e, sys)  \n",
    "\n",
    "    def initate_model_trainer(self):\n",
    "        train_data=pd.read_csv(self.config.training_data_path)\n",
    "        test_data=pd.read_csv(self.config.testing_data_path)\n",
    "        try:\n",
    "            X_train = train_data.iloc[:, :-1].values\n",
    "            y_train = train_data.iloc[:, -1].values\n",
    "            X_test = test_data.iloc[:, :-1].values\n",
    "            y_test = test_data.iloc[:, -1].values   \n",
    "\n",
    "\n",
    "            models = {\n",
    "                \"Random Forest\": RandomForestRegressor(),\n",
    "                \"SVR\": SVR()\n",
    "            }\n",
    "            \n",
    "\n",
    "            # Evaluate models\n",
    "            model_report = final_model(models, X_train, X_test, y_train, y_test)\n",
    "            print(model_report)\n",
    "            print('\\n====================================================================================\\n')\n",
    "            logger.info(f'Model Report: {model_report}')\n",
    "\n",
    "            # Get the best model score\n",
    "            best_model_score = max(model_report.values())\n",
    "            best_model_name = [name for name, score in model_report.items() if score == best_model_score][0]\n",
    "            best_model = models[best_model_name]\n",
    "\n",
    "            print(f\"Best Model Found, Model Name is: {best_model_name}, Accuracy_Score: {best_model_score}\")\n",
    "            print(\"\\n***************************************************************************************\\n\")\n",
    "            logger.info(f\"Best model found, Model Name is {best_model_name}, Accuracy Score: {best_model_score}\")\n",
    "\n",
    "            # Save the best model\n",
    "            self.save_model(path=self.config.train_model_path,model=best_model)\n",
    "        except Exception as e:\n",
    "            logger.error(f'Error occurred: {e}')\n",
    "            raise CustomException(e, sys)"
   ]
  },
  {
   "cell_type": "code",
   "execution_count": 9,
   "metadata": {},
   "outputs": [
    {
     "name": "stderr",
     "output_type": "stream",
     "text": [
      "/Users/akashmukherjee/Programming/Practise ML/House_price_prediction/my_env/lib/python3.11/site-packages/sklearn/model_selection/_search.py:320: UserWarning: The total space of parameters 1 is smaller than n_iter=100. Running 1 iterations. For exhaustive searches, use GridSearchCV.\n",
      "  warnings.warn(\n",
      "/Users/akashmukherjee/Programming/Practise ML/House_price_prediction/my_env/lib/python3.11/site-packages/sklearn/model_selection/_search.py:320: UserWarning: The total space of parameters 1 is smaller than n_iter=100. Running 1 iterations. For exhaustive searches, use GridSearchCV.\n",
      "  warnings.warn(\n"
     ]
    },
    {
     "name": "stdout",
     "output_type": "stream",
     "text": [
      "{'Random Forest': 0.9109858071598773, 'SVR': -0.10865270007595074}\n",
      "\n",
      "====================================================================================\n",
      "\n",
      "Best Model Found, Model Name is: Random Forest, Accuracy_Score: 0.9109858071598773\n",
      "\n",
      "***************************************************************************************\n",
      "\n",
      "Model saved at artifacts/model_trainer/model.pkl\n"
     ]
    }
   ],
   "source": [
    "try:\n",
    "    config=ConfigManager()\n",
    "    model_trainer_config=config.get_model_trainer_config()\n",
    "    model_trainer=ModelTrainer(model_trainer_config)\n",
    "    model_trainer.initate_model_trainer()\n",
    "\n",
    "except Exception as e:\n",
    "    raise CustomException(e,sys)"
   ]
  },
  {
   "cell_type": "code",
   "execution_count": null,
   "metadata": {},
   "outputs": [],
   "source": []
  },
  {
   "cell_type": "code",
   "execution_count": null,
   "metadata": {},
   "outputs": [],
   "source": []
  }
 ],
 "metadata": {
  "kernelspec": {
   "display_name": "my_env",
   "language": "python",
   "name": "python3"
  },
  "language_info": {
   "codemirror_mode": {
    "name": "ipython",
    "version": 3
   },
   "file_extension": ".py",
   "mimetype": "text/x-python",
   "name": "python",
   "nbconvert_exporter": "python",
   "pygments_lexer": "ipython3",
   "version": "3.11.0"
  }
 },
 "nbformat": 4,
 "nbformat_minor": 2
}
